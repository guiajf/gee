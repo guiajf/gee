{
 "cells": [
  {
   "cell_type": "markdown",
   "id": "f842ba93-f137-4b90-a236-bc325122d610",
   "metadata": {},
   "source": [
    "# Introdução ao Google Earth Engine"
   ]
  },
  {
   "cell_type": "markdown",
   "id": "f2638f59-93be-4de7-9178-da1389f37edd",
   "metadata": {},
   "source": [
    "## Sensoriamento remoto via satélite"
   ]
  },
  {
   "cell_type": "markdown",
   "id": "43fe9215-5540-48f7-b2b5-ef676d7820a1",
   "metadata": {},
   "source": [
    "Atualmente, há cerca de 5.000 satélites ativos orbitando a Terra. Este número inclui satélites de comunicação, meteorológicos, de observação da Terra, científicos, militares, entre outros.\n",
    "\n",
    "O número de sensores por satélite varia conforme o propósito do satélite. Satélites de observação da Terra, como os da série Landsat, Sentinel e outros, geralmente possuem entre 1 a 10 sensores, dependendo da sua missão específica. \n",
    "\n",
    "O **Landsat 8** possui dois sensores principais: **OLI** (Operational Land Imager) e **TIRS** (Thermal Infrared Sensor). Enquanto cada satélite da série **Sentinel-2** possui um sensor **MSI** (MultiSpectral Instrument).\n",
    "\n",
    "A quantidade de imagens geradas por mês também varia conforme a capacidade dos satélites e a demanda por dados. Para satélites de observação da Terra, pode-se estimar que cada satélite pode gerar entre algumas centenas a milhares de imagens por mês. \n",
    "\n",
    "Cada satélite **Sentinel-2** pode gerar cerca de 100 terabytes de dados por mês, com imagens cobrindo grandes áreas da superfície terrestre. O programa **Landsat** produz centenas de imagens diariamente, acumulando milhares de imagens por mês.\n",
    "\n",
    "O **Sentinel-2** é uma parte crucial do projeto **Copernicus**, uma iniciativa conjunta da Comissão Europeia e da Agência Espacial Europeia (ESA) para observar a Terra. **Sentinel-2** consiste em um conjunto de dois satélites: **Sentinel-2A** e **Sentinel-2B**, lançados em 2015 e 2017, respectivamente.\n",
    "\n",
    "**Principais Características**\n",
    "\n",
    "- **Objetivo**: Fornecer imagens multiespectrais de alta resolução para monitoramento ambiental, agricultura, florestas, gestão de desastres, cartografia e segurança.\n",
    "- **Sensores**: Cada satélite possui um sensor MSI (MultiSpectral Instrument) que captura imagens em 13 bandas espectrais, variando do visível ao infravermelho próximo e de ondas curtas.\n",
    "- **Resolução Espacial**: Oferece resoluções de 10, 20 e 60 metros, dependendo da banda espectral.\n",
    "- **Cobertura**: Tem uma ampla faixa de varredura de 290 km, permitindo uma cobertura rápida e frequente da superfície terrestre, revisitando a mesma área a cada 5 dias.\n",
    "- **Dados**: Os dados são gratuitos e abertos ao público, promovendo a sua ampla utilização em diversas aplicações científicas, comerciais e ambientais.\n",
    "  \n",
    "**Aplicações**\n",
    "\n",
    "- **Agricultura**: Monitoramento do crescimento das culturas, saúde das plantas e planejamento agrícola.\n",
    "- **Florestas**: Mapeamento e monitoramento das florestas, detecção de desmatamento e análise de mudanças na cobertura florestal.\n",
    "- **Água e Costas**: Monitoramento de corpos d'água, qualidade da água e áreas costeiras.\n",
    "- **Desastres Naturais**: Apoio na gestão e resposta a desastres naturais como inundações, incêndios florestais e deslizamentos de terra.\n",
    "- **Uso do Solo e Urbanização**: Análise e mapeamento do uso do solo, expansão urbana e planejamento territorial.\n",
    "  \n",
    "O **Sentinel-2**, com seus dados de alta qualidade e acessibilidade, é uma ferramenta essencial para a gestão sustentável dos recursos naturais e para enfrentar desafios ambientais globais."
   ]
  },
  {
   "cell_type": "markdown",
   "id": "315077b4-28c5-42b2-9d34-1113768dd666",
   "metadata": {},
   "source": [
    "## Google Earth Engine"
   ]
  },
  {
   "cell_type": "markdown",
   "id": "6a567de8-f678-4e7f-9e0f-910b5694245c",
   "metadata": {},
   "source": [
    "**Google Earth Engine** é um catálogo que contém mais de 80 *petabytes* de dados geospaciais, disponíveis para análise e visualização, desde que o usuário cadastre uma **api key**.\n",
    "\n",
    "Conta também com um editor de código (https://code.earthengine.google.com/), útil para extrair as coordenadas da área de interesse, caso você prefira outro ambiente de desenvolvimento."
   ]
  },
  {
   "cell_type": "markdown",
   "id": "f6f773fb-6a19-4e7b-a181-751d9fe0ee5c",
   "metadata": {},
   "source": [
    "## Procedimentos básicos"
   ]
  },
  {
   "cell_type": "markdown",
   "id": "d6c889d0-b35e-4eac-915e-638b1e20c625",
   "metadata": {},
   "source": [
    "### Importamos as bibliotecas"
   ]
  },
  {
   "cell_type": "code",
   "execution_count": null,
   "id": "88137d5a-7f55-49d6-b61a-5c9dd6067db8",
   "metadata": {},
   "outputs": [],
   "source": [
    "import ee\n",
    "import geemap\n",
    "import rasterio\n",
    "from rasterio.plot import show\n",
    "import matplotlib.pyplot as plt\n",
    "from matplotlib.patches import Polygon"
   ]
  },
  {
   "cell_type": "markdown",
   "id": "fce744bb-597e-4aa0-9258-58abab4f9d8f",
   "metadata": {},
   "source": [
    "### Inicializamos a API"
   ]
  },
  {
   "cell_type": "code",
   "execution_count": null,
   "id": "90303401-8359-4c8e-a566-769185415112",
   "metadata": {},
   "outputs": [],
   "source": [
    "# Processo de autenticação\n",
    "ee.Authenticate()\n",
    "\n",
    "# Inicializamos a biblioteca\n",
    "ee.Initialize()"
   ]
  },
  {
   "cell_type": "markdown",
   "id": "1ba6ac6a-0002-48a4-9999-7a5ce70a46ba",
   "metadata": {},
   "source": [
    "### Intervalo temporal\n",
    "\n",
    "Definimos o período para captura das imagens:"
   ]
  },
  {
   "cell_type": "code",
   "execution_count": null,
   "id": "f7a3afdc-c959-462a-bc55-da3f30959276",
   "metadata": {},
   "outputs": [],
   "source": [
    "data_inicial = '2024-04-01'\n",
    "data_final = '2024-07-31'"
   ]
  },
  {
   "cell_type": "markdown",
   "id": "1d11e81c-daea-407b-9259-d62ae2359f78",
   "metadata": {},
   "source": [
    "### Área de interesse\n",
    "\n",
    "Definimos as coordenadas da área de interesse:"
   ]
  },
  {
   "cell_type": "code",
   "execution_count": null,
   "id": "3b09a50a-78c9-48e7-87a3-0177e014b086",
   "metadata": {},
   "outputs": [],
   "source": [
    "polygon_coords = [\n",
    "    [-43.41287287680422, -21.756108688468274],\n",
    "    [-43.396307553928246, -21.756108688468274],\n",
    "    [-43.396307553928246, -21.750887131860495],\n",
    "    [-43.41287287680422, -21.750887131860495],\n",
    "    [-43.41287287680422, -21.756108688468274]\n",
    "]\n",
    "\n",
    "aoi = ee.Geometry.Polygon(polygon_coords, None, False)"
   ]
  },
  {
   "cell_type": "markdown",
   "id": "2e2ef316-6ac3-4fbc-83f8-b844b6433dcf",
   "metadata": {},
   "source": [
    "### Definimos a coleção de imagens"
   ]
  },
  {
   "cell_type": "markdown",
   "id": "9e0fe117-a1ce-4f6e-9f58-33690e6c8e9d",
   "metadata": {},
   "source": [
    "Aplicamos os seguintes filtros:\n",
    "- área de interesse;\n",
    "- intervalo temporal;\n",
    "- seleção de bandas"
   ]
  },
  {
   "cell_type": "code",
   "execution_count": null,
   "id": "619325af-2cdb-4e69-98db-baa391028a7d",
   "metadata": {},
   "outputs": [],
   "source": [
    "sel_bandas = ('B1', 'B2', 'B3', 'B4', 'B5')\n",
    "\n",
    "db = ee.ImageCollection('COPERNICUS/S2_SR_HARMONIZED') \\\n",
    "                .filterBounds(aoi) \\\n",
    "                .filterDate(ee.Date(data_inicial), ee.Date(data_final)) \\\n",
    "                .select(sel_bandas)"
   ]
  },
  {
   "cell_type": "markdown",
   "id": "2f57fbb5-0f57-490b-a30e-da2f2c219091",
   "metadata": {},
   "source": [
    "### Extraímos a imagem com menor cobertura de nuvens"
   ]
  },
  {
   "cell_type": "code",
   "execution_count": null,
   "id": "615f8a71-7783-4e56-8e10-52008acd7fcd",
   "metadata": {},
   "outputs": [],
   "source": [
    "img = ee.Image(db.sort('CLOUDY_PIXEL_PERCENTAGE').first())"
   ]
  },
  {
   "cell_type": "markdown",
   "id": "6ffb42ee-da71-4e54-84c8-9de35fcc9a1b",
   "metadata": {},
   "source": [
    "### Salvamos a imagem no formato tif"
   ]
  },
  {
   "cell_type": "code",
   "execution_count": null,
   "id": "14e316c5-c9f5-494e-99a6-59cb01d70458",
   "metadata": {},
   "outputs": [],
   "source": [
    "filename = 'teste.tif'\n",
    "geemap.ee_export_image(img, filename=filename, scale=10, region=aoi, file_per_band=False)\n",
    "    "
   ]
  },
  {
   "cell_type": "markdown",
   "id": "eced7a80-879a-4c99-823e-265175dedf80",
   "metadata": {},
   "source": [
    "### Abrimos o arquivo TIFF"
   ]
  },
  {
   "cell_type": "code",
   "execution_count": null,
   "id": "cde6d16d-57dc-49f2-a035-59845b0e7076",
   "metadata": {},
   "outputs": [],
   "source": [
    "# Abra o arquivo TIFF\n",
    "with rasterio.open('teste.tif') as dataset:\n",
    "    multibanda = dataset.read()"
   ]
  },
  {
   "cell_type": "markdown",
   "id": "e00b17c7-e22f-44b1-85ab-d910b1adbc1e",
   "metadata": {},
   "source": [
    "### Selecionamos uma banda espectral"
   ]
  },
  {
   "cell_type": "code",
   "execution_count": null,
   "id": "173a7dd0-6f82-4d8c-8cbe-d265d2f00ed0",
   "metadata": {},
   "outputs": [],
   "source": [
    "with rasterio.open('teste.tif') as dataset:\n",
    "    band3 = dataset.read(3)"
   ]
  },
  {
   "cell_type": "markdown",
   "id": "6a113f25-2f78-4f95-9434-d65905e15aed",
   "metadata": {},
   "source": [
    "### Visualizamos a imagem com Matplotlib"
   ]
  },
  {
   "cell_type": "code",
   "execution_count": null,
   "id": "c5dd90d2-76d1-41dd-ba55-50b2d735c2c4",
   "metadata": {},
   "outputs": [],
   "source": [
    "\n",
    "plt.imshow(band3, cmap='pink')\n",
    "plt.show()\n"
   ]
  },
  {
   "cell_type": "markdown",
   "id": "ff7bc749-78a9-447a-b0ba-5cff89d80ae6",
   "metadata": {},
   "source": [
    "### Alteramos o formato da imagem e o mapa de cores"
   ]
  },
  {
   "cell_type": "code",
   "execution_count": null,
   "id": "886bd9bf-f166-4699-9b4a-64b241467808",
   "metadata": {},
   "outputs": [],
   "source": [
    "# Abrir a imagem GeoTIFF\n",
    "with rasterio.open('teste.tif') as src:\n",
    "    imagem = src.read(3)\n",
    "    metados = src.meta\n",
    "\n",
    "# Plotar a imagem e o polígono usando matplotlib e rasterio\n",
    "fig, ax = plt.subplots(figsize=(10, 10))\n",
    "show(imagem, transform=src.transform, cmap='RdYlGn', ax=ax, interpolation='none')\n",
    "\n",
    "# Configurar o título e exibir o plot\n",
    "ax.set_title('Imagem com polígono de interesse')\n",
    "plt.xlabel('Longitude')\n",
    "plt.ylabel('Latitude')\n",
    "plt.show()"
   ]
  },
  {
   "cell_type": "markdown",
   "id": "3fb195a7-a2e4-4d73-89cc-507fdd754d06",
   "metadata": {},
   "source": [
    "### Visualizamos diferentes bandas com rasterio.plot"
   ]
  },
  {
   "cell_type": "code",
   "execution_count": null,
   "id": "1b6f606e-6316-4b62-adfd-d7f8e2800b56",
   "metadata": {},
   "outputs": [],
   "source": [
    "# Abrir o arquivo raster\n",
    "with rasterio.open('teste.tif', 'r') as raster:\n",
    "    # Criar a figura com 2 colunas e 2 linhas\n",
    "    fig, axs = plt.subplots(ncols=2, nrows=2, figsize=(12, 10))\n",
    "\n",
    "    # Plotar as bandas\n",
    "    show((raster, 2), cmap='Greens', ax=axs[0, 0])\n",
    "    show((raster, 3), cmap='Reds', ax=axs[0, 1])\n",
    "    show((raster, 5), cmap='magma', ax=axs[1, 0])\n",
    "    show((raster, 4), cmap='inferno', ax=axs[1, 1])\n",
    "\n",
    "    # Adicionar títulos aos gráficos\n",
    "    axs[0, 0].set_title(\"Green\")\n",
    "    axs[0, 1].set_title(\"Red\")\n",
    "    axs[1, 0].set_title(\"NIR\")\n",
    "    axs[1, 1].set_title(\"VNIR\")\n",
    "    fig.tight_layout()\n",
    "       \n",
    "    plt.show()\n"
   ]
  }
 ],
 "metadata": {
  "kernelspec": {
   "display_name": "Python 3 (ipykernel)",
   "language": "python",
   "name": "python3"
  },
  "language_info": {
   "codemirror_mode": {
    "name": "ipython",
    "version": 3
   },
   "file_extension": ".py",
   "mimetype": "text/x-python",
   "name": "python",
   "nbconvert_exporter": "python",
   "pygments_lexer": "ipython3",
   "version": "3.10.12"
  }
 },
 "nbformat": 4,
 "nbformat_minor": 5
}
